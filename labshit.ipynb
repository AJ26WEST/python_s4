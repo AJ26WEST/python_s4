{
 "cells": [
  {
   "cell_type": "code",
   "execution_count": 1,
   "id": "b764ef7a-4757-4ba1-b3a1-799fccac78cf",
   "metadata": {},
   "outputs": [
    {
     "name": "stdout",
     "output_type": "stream",
     "text": [
      "[2 4 6]\n"
     ]
    }
   ],
   "source": [
    "import numpy as np\n",
    "arr = np.array([1, 2, 3])\n",
    "print(arr * 2)  # Output: [2 4 6]\n"
   ]
  },
  {
   "cell_type": "code",
   "execution_count": 2,
   "id": "0164c410-5e81-4740-a335-bf718a85947d",
   "metadata": {},
   "outputs": [
    {
     "name": "stdout",
     "output_type": "stream",
     "text": [
      "    Name  Age\n",
      "0  Alice   25\n",
      "1    Bob   30\n"
     ]
    }
   ],
   "source": [
    "import pandas as pd\n",
    "data = {'Name': ['Alice', 'Bob'], 'Age': [25, 30]}\n",
    "df = pd.DataFrame(data)\n",
    "print(df)\n"
   ]
  },
  {
   "cell_type": "code",
   "execution_count": 20,
   "id": "41728d69-d083-47b6-9744-5e27f2f67559",
   "metadata": {},
   "outputs": [
    {
     "name": "stdout",
     "output_type": "stream",
     "text": [
      "The chi Sqr value is- 8.006066246262538\n",
      "The p_value is - 0.04588650089174722\n",
      "Gender and education level are independent.\n"
     ]
    }
   ],
   "source": [
    "import scipy.stats as stats\n",
    "nigga=[[60,54,46,41],\n",
    "      [40,44,53,57]]\n",
    "chi2,p_value,_,_=stats.chi2_contingency(nigga)\n",
    "print(\"The chi Sqr value is-\",chi2)\n",
    "print(\"The p_value is -\",p_value)\n",
    "if p_value<0.005 :\n",
    "       print(\"Gender and education level are dependent.\")\n",
    "else:\n",
    "    print(\"Gender and education level are independent.\")"
   ]
  },
  {
   "cell_type": "code",
   "execution_count": 5,
   "id": "897e1030-d52d-4b9b-a780-2298617a02c6",
   "metadata": {},
   "outputs": [
    {
     "name": "stdout",
     "output_type": "stream",
     "text": [
      "t-Statistic: 2.6666666666666665\n",
      "P-Value: 0.017595153068163727\n",
      "Reject the null hypothesis\n"
     ]
    }
   ],
   "source": [
    "import scipy.stats as stats\n",
    "samplemean=22\n",
    "popmean=20\n",
    "samplesd=3\n",
    "n=16\n",
    "t_stat=(samplemean-popmean)/(samplesd/(n**0.5))\n",
    "p_value=2*(1-stats.t.cdf(abs(t_stat),df=n-1))\n",
    "print(\"t-Statistic:\", t_stat)\n",
    "print(\"P-Value:\", p_value)\n",
    "\n",
    "\n",
    "if p_value < 0.05:\n",
    "    print(\"Reject the null hypothesis\")\n",
    "else:\n",
    "    print(\"Fail to reject the null hypothesis\")"
   ]
  },
  {
   "cell_type": "code",
   "execution_count": 21,
   "id": "c0560133-8946-40db-907a-0f8a07b4c868",
   "metadata": {},
   "outputs": [
    {
     "name": "stdout",
     "output_type": "stream",
     "text": [
      "The poisson distribution is - 0.1858245920237596\n"
     ]
    }
   ],
   "source": [
    "import scipy.stats as stats\n",
    "mean=3.4\n",
    "k=4\n",
    "prob=stats.poisson.pmf(k,mean)\n",
    "print(\"The poisson distribution is -\",prob)"
   ]
  },
  {
   "cell_type": "code",
   "execution_count": 22,
   "id": "5270e494-4093-4c51-b1a4-b971e46abd6e",
   "metadata": {},
   "outputs": [
    {
     "name": "stdout",
     "output_type": "stream",
     "text": [
      "THe probability of 4 success is - 0.03295898437499997\n",
      "The probability of atleast 1 succes is 0.822021484375\n"
     ]
    }
   ],
   "source": [
    "import scipy.stats as stats\n",
    "n=6\n",
    "p=0.25\n",
    "k=4\n",
    "succ4=stats.binom.pmf(k,n,p)\n",
    "print(\"THe probability of 4 success is -\",succ4)\n",
    "suc1=1-stats.binom.pmf(0,n,p)\n",
    "print(\"The probability of atleast 1 succes is\",suc1)"
   ]
  },
  {
   "cell_type": "code",
   "execution_count": null,
   "id": "9a048b14-4876-4433-a676-55b182428c8f",
   "metadata": {},
   "outputs": [],
   "source": []
  }
 ],
 "metadata": {
  "kernelspec": {
   "display_name": "Python 3 (ipykernel)",
   "language": "python",
   "name": "python3"
  },
  "language_info": {
   "codemirror_mode": {
    "name": "ipython",
    "version": 3
   },
   "file_extension": ".py",
   "mimetype": "text/x-python",
   "name": "python",
   "nbconvert_exporter": "python",
   "pygments_lexer": "ipython3",
   "version": "3.13.1"
  }
 },
 "nbformat": 4,
 "nbformat_minor": 5
}
