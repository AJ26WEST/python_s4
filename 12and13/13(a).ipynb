{
 "cells": [
  {
   "cell_type": "code",
   "execution_count": 1,
   "id": "3256567b-8633-4737-9b14-e02d987bf3b5",
   "metadata": {},
   "outputs": [
    {
     "name": "stdout",
     "output_type": "stream",
     "text": [
      "Standard Deviation (SD): 11323887.827161184\n",
      "Coefficient of Variation (CV): 147.17556823884533 %\n"
     ]
    }
   ],
   "source": [
    "\n",
    "populations = [4779736, 710231, 6392017, 2915918, 37253956, 5029196, 3574097, 897934]\n",
    "N = len(populations)\n",
    "mean = sum(populations) / N\n",
    "variance_sum = sum((X - mean) ** 2 for X in populations)\n",
    "variance = variance_sum / N\n",
    "sd = variance ** 0.5\n",
    "cv = (sd / mean) * 100\n",
    "print(\"Standard Deviation (SD):\", sd)\n",
    "print(\"Coefficient of Variation (CV):\", cv, \"%\")"
   ]
  },
  {
   "cell_type": "code",
   "execution_count": null,
   "id": "88bc0b23-6547-4af6-90d6-c954deeccddb",
   "metadata": {},
   "outputs": [],
   "source": []
  }
 ],
 "metadata": {
  "kernelspec": {
   "display_name": "Python 3 (ipykernel)",
   "language": "python",
   "name": "python3"
  },
  "language_info": {
   "codemirror_mode": {
    "name": "ipython",
    "version": 3
   },
   "file_extension": ".py",
   "mimetype": "text/x-python",
   "name": "python",
   "nbconvert_exporter": "python",
   "pygments_lexer": "ipython3",
   "version": "3.13.1"
  }
 },
 "nbformat": 4,
 "nbformat_minor": 5
}
