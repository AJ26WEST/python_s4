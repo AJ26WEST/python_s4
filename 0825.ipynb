{
 "cells": [
  {
   "cell_type": "code",
   "execution_count": 4,
   "id": "04654929-d0e5-42c3-b433-3bfce3149908",
   "metadata": {},
   "outputs": [
    {
     "name": "stdin",
     "output_type": "stream",
     "text": [
      "Enter a string:  abhishgek\n"
     ]
    },
    {
     "name": "stdout",
     "output_type": "stream",
     "text": [
      "The entered string is: abhishgek\n",
      "\n",
      "Using range() to iterate through the string:\n",
      "Index 0: a\n",
      "Index 1: b\n",
      "Index 2: h\n",
      "Index 3: i\n",
      "Index 4: s\n",
      "Index 5: h\n",
      "Index 6: g\n",
      "Index 7: e\n",
      "Index 8: k\n",
      "\n",
      "Using enumerate() to iterate through the string:\n",
      "Index 0: a\n",
      "Index 1: b\n",
      "Index 2: h\n",
      "Index 3: i\n",
      "Index 4: s\n",
      "Index 5: h\n",
      "Index 6: g\n",
      "Index 7: e\n",
      "Index 8: k\n"
     ]
    }
   ],
   "source": [
    "input_string = input(\"Enter a string: \")\n",
    "print(\"The entered string is:\", input_string)\n",
    "\n",
    "print(\"\\nUsing range() to iterate through the string:\")\n",
    "for i in range(len(input_string)):\n",
    "    print(f\"Index {i}: {input_string[i]}\")\n",
    "\n",
    "print(\"\\nUsing enumerate() to iterate through the string:\")\n",
    "for index, char in enumerate(input_string):\n",
    "    print(f\"Index {index}: {char}\")\n"
   ]
  },
  {
   "cell_type": "code",
   "execution_count": 5,
   "id": "6707dc78-f54c-4d8a-bd01-6cc95deb02cb",
   "metadata": {},
   "outputs": [
    {
     "name": "stdout",
     "output_type": "stream",
     "text": [
      "List after all operations: [50, 40, 30, 25, 10]\n",
      "Recovered list: [50, 40, 30, 25, 10]\n"
     ]
    }
   ],
   "source": [
    "my_list = [10, 20, 30, 40]\n",
    "\n",
    "my_list.append(50)\n",
    "\n",
    "my_list.insert(2, 25)\n",
    "\n",
    "my_list.remove(20)\n",
    "\n",
    "my_list.sort(reverse=True)\n",
    "\n",
    "recovered_list = my_list.copy()\n",
    "\n",
    "print(\"List after all operations:\", my_list)\n",
    "print(\"Recovered list:\", recovered_list)\n"
   ]
  },
  {
   "cell_type": "code",
   "execution_count": null,
   "id": "6a18c4a6-5e43-46e2-ac4b-ba371daeeb06",
   "metadata": {},
   "outputs": [],
   "source": []
  }
 ],
 "metadata": {
  "kernelspec": {
   "display_name": "Python 3 (ipykernel)",
   "language": "python",
   "name": "python3"
  },
  "language_info": {
   "codemirror_mode": {
    "name": "ipython",
    "version": 3
   },
   "file_extension": ".py",
   "mimetype": "text/x-python",
   "name": "python",
   "nbconvert_exporter": "python",
   "pygments_lexer": "ipython3",
   "version": "3.13.1"
  }
 },
 "nbformat": 4,
 "nbformat_minor": 5
}
