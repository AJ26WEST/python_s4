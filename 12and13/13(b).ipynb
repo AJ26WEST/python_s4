{
 "cells": [
  {
   "cell_type": "code",
   "execution_count": 2,
   "id": "e6e6c886-20e4-44af-81e7-e72a486146eb",
   "metadata": {},
   "outputs": [
    {
     "name": "stdout",
     "output_type": "stream",
     "text": [
      "The mean is 39.6429\n",
      "The median is 38.7500\n",
      "The variance is 253.4439\n"
     ]
    }
   ],
   "source": [
    "import numpy as np\n",
    "import pandas as pd\n",
    "\n",
    "# Given frequency distribution table\n",
    "Table = {\n",
    "    \"Class\": [(0, 10), (10, 20), (20, 30), (30, 40), (40, 50), (50, 60), (60, 70), (70, 80)],\n",
    "    \"Frequency\": [5, 10, 20, 40, 30, 20, 10, 5]\n",
    "}\n",
    "\n",
    "# Create DataFrame\n",
    "df = pd.DataFrame(Table)\n",
    "\n",
    "# Calculate midpoints of each class interval\n",
    "df[\"Midpoint\"] = df[\"Class\"].apply(lambda x: (x[0] + x[1]) / 2)\n",
    "\n",
    "# Calculate the mean\n",
    "mean = np.sum(df[\"Midpoint\"] * df[\"Frequency\"]) / np.sum(df[\"Frequency\"])\n",
    "\n",
    "# Calculate the variance\n",
    "variance = np.sum(df[\"Frequency\"] * (df[\"Midpoint\"] - mean) ** 2) / np.sum(df[\"Frequency\"])\n",
    "\n",
    "# For median, we need to use cumulative frequencies\n",
    "df[\"Cumulative Frequency\"] = np.cumsum(df[\"Frequency\"])\n",
    "\n",
    "# Median calculation: Find the class interval that contains the median\n",
    "total_frequency = np.sum(df[\"Frequency\"])\n",
    "median_class = df[df[\"Cumulative Frequency\"] >= total_frequency / 2].iloc[0]\n",
    "\n",
    "# Median formula:\n",
    "L = median_class[\"Class\"][0]  # Lower boundary of median class\n",
    "f = median_class[\"Frequency\"]  # Frequency of median class\n",
    "cf = median_class[\"Cumulative Frequency\"] - f  # Cumulative frequency before the median class\n",
    "h = median_class[\"Class\"][1] - median_class[\"Class\"][0]  # Class width\n",
    "\n",
    "# Median formula: L + (N/2 - CF) * (h / f)\n",
    "median = L + ((total_frequency / 2 - cf) * h) / f\n",
    "\n",
    "\n",
    "print(f\"The mean is {mean:.4f}\")\n",
    "print(f\"The median is {median:.4f}\")\n",
    "print(f\"The variance is {variance:.4f}\")"
   ]
  },
  {
   "cell_type": "code",
   "execution_count": null,
   "id": "bb68bbaa-249d-4d3c-b40c-01e59e543164",
   "metadata": {},
   "outputs": [],
   "source": []
  }
 ],
 "metadata": {
  "kernelspec": {
   "display_name": "Python 3 (ipykernel)",
   "language": "python",
   "name": "python3"
  },
  "language_info": {
   "codemirror_mode": {
    "name": "ipython",
    "version": 3
   },
   "file_extension": ".py",
   "mimetype": "text/x-python",
   "name": "python",
   "nbconvert_exporter": "python",
   "pygments_lexer": "ipython3",
   "version": "3.13.1"
  }
 },
 "nbformat": 4,
 "nbformat_minor": 5
}
