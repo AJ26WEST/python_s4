{
 "cells": [
  {
   "cell_type": "code",
   "execution_count": 4,
   "id": "87602d2b-7f78-40e6-bb74-973435821d1e",
   "metadata": {},
   "outputs": [
    {
     "name": "stdout",
     "output_type": "stream",
     "text": [
      "mean :  7694136.0\n",
      "meadian:  4176918.0\n",
      "variance :  128230433336322.5\n"
     ]
    }
   ],
   "source": [
    "import numpy as np\n",
    "population = np.array([4779739,710231,6392017,2915918,37253956,5029196,3574097,897934])\n",
    "mean=np.sum(population)/len(population)\n",
    "median=np.median(population)\n",
    "variance=np.sum((population-mean)**2 /len(population)-1)\n",
    "print(\"mean : \" , mean)\n",
    "print(\"meadian: \" , median)\n",
    "print(\"variance : \" , variance)"
   ]
  },
  {
   "cell_type": "code",
   "execution_count": 5,
   "id": "bb6d40c9-77a7-4f98-a9bc-5248bf8380ac",
   "metadata": {},
   "outputs": [
    {
     "name": "stdout",
     "output_type": "stream",
     "text": [
      "Standard Derivation(SD): 15.92\n",
      "Coefficient of variation(CV): 40.16%\n"
     ]
    }
   ],
   "source": [
    "import numpy as np\n",
    "classes =[(0,10),(10,20),(20,30),(30,40),(40,50),(50,60),(60,70),(70,80)]\n",
    "frequencies = np.array([5,10,20,40,30,20,10,5])\n",
    "midpoints = np.array([(c[0]+c[1])/2 for c in classes])\n",
    "mean = np.sum(midpoints * frequencies)/np.sum(frequencies)\n",
    "variance = np.sum(frequencies*(midpoints - mean)**2)/np.sum(frequencies)\n",
    "stddev = np.sqrt(variance)\n",
    "cv = (stddev/mean)*100\n",
    "print(f\"Standard Derivation(SD): {stddev:.2f}\")\n",
    "print(f\"Coefficient of variation(CV): {cv:.2f}%\")\n"
   ]
  },
  {
   "cell_type": "code",
   "execution_count": null,
   "id": "c939ecab-fd70-4cdf-b77b-0ece6f8dc299",
   "metadata": {},
   "outputs": [],
   "source": []
  }
 ],
 "metadata": {
  "kernelspec": {
   "display_name": "Python 3 (ipykernel)",
   "language": "python",
   "name": "python3"
  },
  "language_info": {
   "codemirror_mode": {
    "name": "ipython",
    "version": 3
   },
   "file_extension": ".py",
   "mimetype": "text/x-python",
   "name": "python",
   "nbconvert_exporter": "python",
   "pygments_lexer": "ipython3",
   "version": "3.13.1"
  }
 },
 "nbformat": 4,
 "nbformat_minor": 5
}
