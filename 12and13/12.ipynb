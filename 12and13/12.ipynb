{
 "cells": [
  {
   "cell_type": "code",
   "execution_count": 3,
   "id": "6550070f-6ec8-41e9-bc4f-7ed7d173bd18",
   "metadata": {},
   "outputs": [
    {
     "name": "stdout",
     "output_type": "stream",
     "text": [
      "Training Set Proportions:\n",
      "Home Ownership\n",
      "Home Mortgage    0.484833\n",
      "Rent             0.427167\n",
      "Own Home         0.086333\n",
      "Have Mortgage    0.001667\n",
      "Name: proportion, dtype: float64\n",
      "\n",
      "Testing Set Proportions:\n",
      "Home Ownership\n",
      "Home Mortgage    0.485333\n",
      "Rent             0.427333\n",
      "Own Home         0.086000\n",
      "Have Mortgage    0.001333\n",
      "Name: proportion, dtype: float64\n"
     ]
    }
   ],
   "source": [
    "import pandas as pd\n",
    "from sklearn.model_selection import train_test_split\n",
    "\n",
    "file_path = \"train.csv\"  \n",
    "df = pd.read_csv(file_path)\n",
    "\n",
    "df_filtered = df.dropna(subset=['Home Ownership'])\n",
    "\n",
    "stratify_column = 'Home Ownership'\n",
    "\n",
    "train, test = train_test_split(\n",
    "    df_filtered, test_size=0.2, stratify=df_filtered[stratify_column], random_state=42\n",
    ")\n",
    "\n",
    "train_proportions = train[stratify_column].value_counts(normalize=True)\n",
    "test_proportions = test[stratify_column].value_counts(normalize=True)\n",
    "\n",
    "print(\"Training Set Proportions:\")\n",
    "print(train_proportions)\n",
    "print(\"\\nTesting Set Proportions:\")\n",
    "print(test_proportions)"
   ]
  },
  {
   "cell_type": "code",
   "execution_count": null,
   "id": "1e58fdf1-cc4a-4818-b334-90287c2ea511",
   "metadata": {},
   "outputs": [],
   "source": []
  }
 ],
 "metadata": {
  "kernelspec": {
   "display_name": "Python 3 (ipykernel)",
   "language": "python",
   "name": "python3"
  },
  "language_info": {
   "codemirror_mode": {
    "name": "ipython",
    "version": 3
   },
   "file_extension": ".py",
   "mimetype": "text/x-python",
   "name": "python",
   "nbconvert_exporter": "python",
   "pygments_lexer": "ipython3",
   "version": "3.13.1"
  }
 },
 "nbformat": 4,
 "nbformat_minor": 5
}
